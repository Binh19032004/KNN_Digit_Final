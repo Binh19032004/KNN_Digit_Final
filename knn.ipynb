{
 "cells": [
  {
   "cell_type": "code",
   "execution_count": 18,
   "id": "a551e218",
   "metadata": {},
   "outputs": [],
   "source": [
    "# Import các thư viện cần thiết\n",
    "# numpy, pandas: xử lý dữ liệu\n",
    "# matplotlib: vẽ biểu đồ\n",
    "# torchvision: tải EMNIST-Digits\n",
    "# scipy.ndimage, stats: căn giữa ảnh, thống kê\n",
    "import numpy as np\n",
    "import pandas as pd\n",
    "import matplotlib.pyplot as plt\n",
    "from torchvision import datasets\n",
    "from scipy import ndimage, stats\n",
    "from PIL import Image\n",
    "import os"
   ]
  },
  {
   "cell_type": "code",
   "execution_count": null,
   "id": "2502bbfe",
   "metadata": {},
   "outputs": [],
   "source": []
  },
  {
   "cell_type": "code",
   "execution_count": 5,
   "id": "67ce4bba",
   "metadata": {},
   "outputs": [],
   "source": [
    "# Import lớp KNNClassifier từ file knn_classifier.py\n",
    "from knn_classifier import KNNClassifier"
   ]
  },
  {
   "cell_type": "code",
   "execution_count": 11,
   "id": "5ac62b65",
   "metadata": {},
   "outputs": [
    {
     "name": "stderr",
     "output_type": "stream",
     "text": [
      "100.0%\n",
      "100.0%\n",
      "100.0%\n",
      "100.0%\n"
     ]
    },
    {
     "name": "stdout",
     "output_type": "stream",
     "text": [
      "Đã tải, lưu dữ liệu .npy và ảnh PNG vào D:/KNN_Final/mnist_data/png/train\n",
      "Phân phối nhãn trong y_train: [5923 6742 5958 6131 5842 5421 5918 6265 5851 5949]\n",
      "Tổng số mẫu huấn luyện: 60000\n"
     ]
    }
   ],
   "source": [
    "# Tiền xử lý, lưu ảnh PNG, và huấn luyện KNN trên MNIST (train)\n",
    "# Mục đích: Tải 60,000 mẫu, làm phẳng, chuẩn hóa, lưu .npy, lưu PNG, huấn luyện k=3\n",
    "knn = KNNClassifier(k=3, use_kdtree=True, weighted_voting=False)\n",
    "\n",
    "# Kiểm tra file .npy để tái sử dụng\n",
    "if os.path.exists('X_train_mnist.npy') and os.path.exists('y_train_mnist.npy'):\n",
    "    X_train = np.load('X_train_mnist.npy')  # Shape: (60000, 784)\n",
    "    y_train = np.load('y_train_mnist.npy')  # Shape: (60000,)\n",
    "    print(\"Đã tải dữ liệu từ file .npy\")\n",
    "else:\n",
    "    # Tạo thư mục lưu ảnh PNG\n",
    "    png_train_dir = 'D:/KNN_Final/mnist_data/png/train'\n",
    "    os.makedirs(png_train_dir, exist_ok=True)\n",
    "    \n",
    "    # Tải MNIST train từ torchvision, lưu vào D:\\KNN_Final\\mnist_data\n",
    "    dataset = datasets.MNIST(root='D:/KNN_Final/mnist_data', train=True, download=True)\n",
    "    X_train, y_train = [], []\n",
    "    for idx, (image, label) in enumerate(dataset):\n",
    "        # Tiền xử lý: Chuyển PIL.Image thành numpy, làm phẳng 28x28 thành 784 chiều, chuẩn hóa [0, 1]\n",
    "        image_np = np.array(image, dtype=np.float32)\n",
    "        X_train.append(image_np.flatten() / 255.0)\n",
    "        y_train.append(label)\n",
    "        \n",
    "        # Lưu ảnh dưới dạng PNG\n",
    "        image.save(os.path.join(png_train_dir, f'train_{idx:06d}_label_{label}.png'))\n",
    "        \n",
    "    X_train = np.array(X_train)  # Shape: (60000, 784)\n",
    "    y_train = np.array(y_train)  # Shape: (60000,)\n",
    "    np.save('X_train_mnist.npy', X_train)  # Lưu vào thư mục dự án\n",
    "    np.save('y_train_mnist.npy', y_train)\n",
    "    print(\"Đã tải, lưu dữ liệu .npy và ảnh PNG vào D:/KNN_Final/mnist_data/png/train\")\n",
    "\n",
    "# Kiểm tra phân phối nhãn\n",
    "print(\"Phân phối nhãn trong y_train:\", np.bincount(y_train))\n",
    "print(f\"Tổng số mẫu huấn luyện: {len(y_train)}\")\n",
    "\n",
    "# Huấn luyện KNN với dữ liệu (k=3, dùng KD-Tree)\n",
    "knn.fit(X_train, y_train)"
   ]
  },
  {
   "cell_type": "code",
   "execution_count": 20,
   "id": "57a96f68",
   "metadata": {},
   "outputs": [
    {
     "name": "stdout",
     "output_type": "stream",
     "text": [
      "Đã lưu ảnh PNG test vào D:/KNN_Final/mnist_data/png/test\n",
      "Đã lưu dữ liệu test vào X_test_mnist.npy và y_test_mnist.npy\n"
     ]
    }
   ],
   "source": [
    "# Tiền xử lý, lưu ảnh PNG, và tính độ chính xác trên tập test (10,000 mẫu)\n",
    "# Tái sử dụng numpy, torchvision.datasets, PIL.Image, os từ Cell 1\n",
    "png_test_dir = 'D:/KNN_Final/mnist_data/png/test'\n",
    "os.makedirs(png_test_dir, exist_ok=True)\n",
    "\n",
    "dataset_test = datasets.MNIST(root='D:/KNN_Final/mnist_data', train=False, download=True)\n",
    "X_test, y_test = [], []\n",
    "for idx, (image, label) in enumerate(dataset_test):\n",
    "    # Tiền xử lý: Chuyển PIL.Image thành numpy, làm phẳng 28x28 thành 784 chiều, chuẩn hóa [0, 1]\n",
    "    image_np = np.array(image, dtype=np.float32)\n",
    "    X_test.append(image_np.flatten() / 255.0)\n",
    "    y_test.append(label)\n",
    "    \n",
    "    # Lưu ảnh dưới dạng PNG\n",
    "    image.save(os.path.join(png_test_dir, f'test_{idx:06d}_label_{label}.png'))\n",
    "\n",
    "X_test = np.array(X_test)  # Shape: (10000, 784)\n",
    "y_test = np.array(y_test)  # Shape: (10000,)\n",
    "print(\"Đã lưu ảnh PNG test vào D:/KNN_Final/mnist_data/png/test\")\n",
    "\n",
    "# Lưu dữ liệu test vào file .npy\n",
    "np.save('X_test_mnist.npy', X_test)\n",
    "np.save('y_test_mnist.npy', y_test)\n",
    "print(\"Đã lưu dữ liệu test vào X_test_mnist.npy và y_test_mnist.npy\")\n",
    "\n"
   ]
  },
  {
   "cell_type": "code",
   "execution_count": 10,
   "id": "880fe0b1",
   "metadata": {},
   "outputs": [
    {
     "ename": "KeyboardInterrupt",
     "evalue": "",
     "output_type": "error",
     "traceback": [
      "\u001b[31m---------------------------------------------------------------------------\u001b[39m",
      "\u001b[31mKeyboardInterrupt\u001b[39m                         Traceback (most recent call last)",
      "\u001b[36mCell\u001b[39m\u001b[36m \u001b[39m\u001b[32mIn[10]\u001b[39m\u001b[32m, line 2\u001b[39m\n\u001b[32m      1\u001b[39m \u001b[38;5;66;03m# Dự đoán và tính độ chính xác (k=3 từ Cell 3)\u001b[39;00m\n\u001b[32m----> \u001b[39m\u001b[32m2\u001b[39m predictions = \u001b[43mknn\u001b[49m\u001b[43m.\u001b[49m\u001b[43mpredict\u001b[49m\u001b[43m(\u001b[49m\u001b[43mX_test\u001b[49m\u001b[43m)\u001b[49m\n\u001b[32m      3\u001b[39m accuracy = np.mean(predictions == y_test)\n\u001b[32m      4\u001b[39m \u001b[38;5;28mprint\u001b[39m(\u001b[33mf\u001b[39m\u001b[33m\"\u001b[39m\u001b[33mĐộ chính xác trên tập test (k=3): \u001b[39m\u001b[38;5;132;01m{\u001b[39;00maccuracy\u001b[38;5;132;01m:\u001b[39;00m\u001b[33m.4f\u001b[39m\u001b[38;5;132;01m}\u001b[39;00m\u001b[33m\"\u001b[39m)\n",
      "\u001b[36mFile \u001b[39m\u001b[32md:\\KNN_Final\\knn_classifier.py:38\u001b[39m, in \u001b[36mKNNClassifier.predict\u001b[39m\u001b[34m(self, X)\u001b[39m\n\u001b[32m     36\u001b[39m \u001b[38;5;28;01mif\u001b[39;00m X.shape[\u001b[32m1\u001b[39m] != \u001b[38;5;28mself\u001b[39m.X_train.shape[\u001b[32m1\u001b[39m]:\n\u001b[32m     37\u001b[39m     \u001b[38;5;28;01mraise\u001b[39;00m \u001b[38;5;167;01mValueError\u001b[39;00m(\u001b[33m\"\u001b[39m\u001b[33mTest data must have same number of features as training data.\u001b[39m\u001b[33m\"\u001b[39m)\n\u001b[32m---> \u001b[39m\u001b[32m38\u001b[39m predictions = [\u001b[38;5;28;43mself\u001b[39;49m\u001b[43m.\u001b[49m\u001b[43m_predict_one\u001b[49m\u001b[43m(\u001b[49m\u001b[43mtest_point\u001b[49m\u001b[43m)\u001b[49m \u001b[38;5;28;01mfor\u001b[39;00m test_point \u001b[38;5;129;01min\u001b[39;00m X]\n\u001b[32m     39\u001b[39m \u001b[38;5;28;01mreturn\u001b[39;00m np.array(predictions)\n",
      "\u001b[36mFile \u001b[39m\u001b[32md:\\KNN_Final\\knn_classifier.py:24\u001b[39m, in \u001b[36mKNNClassifier._predict_one\u001b[39m\u001b[34m(self, test_point)\u001b[39m\n\u001b[32m     22\u001b[39m \u001b[38;5;28;01mdef\u001b[39;00m\u001b[38;5;250m \u001b[39m\u001b[34m_predict_one\u001b[39m(\u001b[38;5;28mself\u001b[39m, test_point: np.ndarray) -> \u001b[38;5;28mint\u001b[39m:\n\u001b[32m     23\u001b[39m     \u001b[38;5;28;01mif\u001b[39;00m \u001b[38;5;28mself\u001b[39m.use_kdtree \u001b[38;5;129;01mand\u001b[39;00m \u001b[38;5;28mself\u001b[39m.kdtree \u001b[38;5;129;01mis\u001b[39;00m \u001b[38;5;129;01mnot\u001b[39;00m \u001b[38;5;28;01mNone\u001b[39;00m:\n\u001b[32m---> \u001b[39m\u001b[32m24\u001b[39m         distances, indices = \u001b[38;5;28;43mself\u001b[39;49m\u001b[43m.\u001b[49m\u001b[43mkdtree\u001b[49m\u001b[43m.\u001b[49m\u001b[43mquery\u001b[49m\u001b[43m(\u001b[49m\u001b[43mtest_point\u001b[49m\u001b[43m,\u001b[49m\u001b[43m \u001b[49m\u001b[43mk\u001b[49m\u001b[43m=\u001b[49m\u001b[38;5;28;43mself\u001b[39;49m\u001b[43m.\u001b[49m\u001b[43mk\u001b[49m\u001b[43m)\u001b[49m\n\u001b[32m     25\u001b[39m     \u001b[38;5;28;01melse\u001b[39;00m:\n\u001b[32m     26\u001b[39m         distances = np.sqrt(np.sum((\u001b[38;5;28mself\u001b[39m.X_train - test_point) ** \u001b[32m2\u001b[39m, axis=\u001b[32m1\u001b[39m))\n",
      "\u001b[36mFile \u001b[39m\u001b[32md:\\KNN_Final\\knn\\Lib\\site-packages\\scipy\\spatial\\_kdtree.py:475\u001b[39m, in \u001b[36mKDTree.query\u001b[39m\u001b[34m(self, x, k, eps, p, distance_upper_bound, workers)\u001b[39m\n\u001b[32m    472\u001b[39m \u001b[38;5;28;01mif\u001b[39;00m k \u001b[38;5;129;01mis\u001b[39;00m \u001b[38;5;28;01mNone\u001b[39;00m:\n\u001b[32m    473\u001b[39m     \u001b[38;5;28;01mraise\u001b[39;00m \u001b[38;5;167;01mValueError\u001b[39;00m(\u001b[33m\"\u001b[39m\u001b[33mk must be an integer or a sequence of integers\u001b[39m\u001b[33m\"\u001b[39m)\n\u001b[32m--> \u001b[39m\u001b[32m475\u001b[39m d, i = \u001b[38;5;28;43msuper\u001b[39;49m\u001b[43m(\u001b[49m\u001b[43m)\u001b[49m\u001b[43m.\u001b[49m\u001b[43mquery\u001b[49m\u001b[43m(\u001b[49m\u001b[43mx\u001b[49m\u001b[43m,\u001b[49m\u001b[43m \u001b[49m\u001b[43mk\u001b[49m\u001b[43m,\u001b[49m\u001b[43m \u001b[49m\u001b[43meps\u001b[49m\u001b[43m,\u001b[49m\u001b[43m \u001b[49m\u001b[43mp\u001b[49m\u001b[43m,\u001b[49m\u001b[43m \u001b[49m\u001b[43mdistance_upper_bound\u001b[49m\u001b[43m,\u001b[49m\u001b[43m \u001b[49m\u001b[43mworkers\u001b[49m\u001b[43m)\u001b[49m\n\u001b[32m    476\u001b[39m \u001b[38;5;28;01mif\u001b[39;00m \u001b[38;5;28misinstance\u001b[39m(i, \u001b[38;5;28mint\u001b[39m):\n\u001b[32m    477\u001b[39m     i = np.intp(i)\n",
      "\u001b[36mFile \u001b[39m\u001b[32m_ckdtree.pyx:833\u001b[39m, in \u001b[36mscipy.spatial._ckdtree.cKDTree.query\u001b[39m\u001b[34m()\u001b[39m\n",
      "\u001b[36mFile \u001b[39m\u001b[32md:\\KNN_Final\\knn\\Lib\\site-packages\\numpy\\_core\\fromnumeric.py:206\u001b[39m, in \u001b[36m_reshape_dispatcher\u001b[39m\u001b[34m(a, shape, order, newshape, copy)\u001b[39m\n\u001b[32m    111\u001b[39m \u001b[38;5;250m    \u001b[39m\u001b[33;03m\"\"\"\u001b[39;00m\n\u001b[32m    112\u001b[39m \u001b[33;03m    Take elements from an array along an axis.\u001b[39;00m\n\u001b[32m    113\u001b[39m \n\u001b[32m   (...)\u001b[39m\u001b[32m    201\u001b[39m \u001b[33;03m           [5, 7]])\u001b[39;00m\n\u001b[32m    202\u001b[39m \u001b[33;03m    \"\"\"\u001b[39;00m\n\u001b[32m    203\u001b[39m     \u001b[38;5;28;01mreturn\u001b[39;00m _wrapfunc(a, \u001b[33m'\u001b[39m\u001b[33mtake\u001b[39m\u001b[33m'\u001b[39m, indices, axis=axis, out=out, mode=mode)\n\u001b[32m--> \u001b[39m\u001b[32m206\u001b[39m \u001b[38;5;28;01mdef\u001b[39;00m\u001b[38;5;250m \u001b[39m\u001b[34m_reshape_dispatcher\u001b[39m(a, /, shape=\u001b[38;5;28;01mNone\u001b[39;00m, order=\u001b[38;5;28;01mNone\u001b[39;00m, *, newshape=\u001b[38;5;28;01mNone\u001b[39;00m,\n\u001b[32m    207\u001b[39m                         copy=\u001b[38;5;28;01mNone\u001b[39;00m):\n\u001b[32m    208\u001b[39m     \u001b[38;5;28;01mreturn\u001b[39;00m (a,)\n\u001b[32m    211\u001b[39m \u001b[38;5;129m@array_function_dispatch\u001b[39m(_reshape_dispatcher)\n\u001b[32m    212\u001b[39m \u001b[38;5;28;01mdef\u001b[39;00m\u001b[38;5;250m \u001b[39m\u001b[34mreshape\u001b[39m(a, /, shape=\u001b[38;5;28;01mNone\u001b[39;00m, order=\u001b[33m'\u001b[39m\u001b[33mC\u001b[39m\u001b[33m'\u001b[39m, *, newshape=\u001b[38;5;28;01mNone\u001b[39;00m, copy=\u001b[38;5;28;01mNone\u001b[39;00m):\n",
      "\u001b[31mKeyboardInterrupt\u001b[39m: "
     ]
    }
   ],
   "source": [
    "# Dự đoán và tính độ chính xác (k=3 từ Cell 3)\n",
    "predictions = knn.predict(X_test)\n",
    "accuracy = np.mean(predictions == y_test)\n",
    "print(f\"Độ chính xác trên tập test (k=3): {accuracy:.4f}\")"
   ]
  },
  {
   "cell_type": "code",
   "execution_count": 21,
   "id": "756b7113",
   "metadata": {},
   "outputs": [
    {
     "name": "stdout",
     "output_type": "stream",
     "text": [
      "Đã tải dữ liệu test từ file .npy\n",
      "Đang thử k=3...\n",
      "Độ chính xác với k=3: 0.9705\n",
      "Đang thử k=5...\n",
      "Độ chính xác với k=5: 0.9688\n",
      "Đang thử k=7...\n",
      "Độ chính xác với k=7: 0.9694\n",
      "Đang thử k=9...\n",
      "Độ chính xác với k=9: 0.9659\n"
     ]
    },
    {
     "data": {
      "image/png": "[encoded data removed]",
      "text/plain": [
       "<Figure size 800x600 with 1 Axes>"
      ]
     },
     "metadata": {},
     "output_type": "display_data"
    },
    {
     "name": "stdout",
     "output_type": "stream",
     "text": [
      "\n",
      "So sánh độ chính xác:\n",
      "k=3: 0.9705\n",
      "k=5: 0.9688\n",
      "k=7: 0.9694\n",
      "k=9: 0.9659\n",
      "\n",
      "Giá trị k tốt nhất: k=3 với độ chính xác 0.9705\n"
     ]
    }
   ],
   "source": [
    "# Vẽ biểu đồ cột so sánh độ chính xác với k=3, 5, 7, 9\n",
    "# Tái sử dụng numpy, matplotlib.pyplot, os từ Cell 1\n",
    "\n",
    "# Tải dữ liệu test từ file .npy (giả sử đã lưu trước đó)\n",
    "try:\n",
    "    X_test = np.load('X_test_mnist.npy')  # Shape: (10000, 784)\n",
    "    y_test = np.load('y_test_mnist.npy')  # Shape: (10000,)\n",
    "    print(\"Đã tải dữ liệu test từ file .npy\")\n",
    "except FileNotFoundError:\n",
    "    print(\"Không tìm thấy file X_test_mnist.npy hoặc y_test_mnist.npy. Vui lòng kiểm tra lại hoặc chạy lại cell trước để lưu dữ liệu test.\")\n",
    "    X_test, y_test = None, None\n",
    "    raise FileNotFoundError(\"Dữ liệu test chưa được lưu. Hãy lưu X_test và y_test trước.\")\n",
    "\n",
    "# Tải dữ liệu huấn luyện từ file .npy\n",
    "X_train = np.load('X_train_mnist.npy')  # Shape: (60000, 784)\n",
    "y_train = np.load('y_train_mnist.npy')  # Shape: (60000,)\n",
    "\n",
    "# Danh sách giá trị k để so sánh\n",
    "k_values = [3, 5, 7, 9]\n",
    "accuracies = {}  # Từ điển lưu độ chính xác theo giá trị k\n",
    "\n",
    "# Thử từng giá trị k\n",
    "for k in k_values:\n",
    "    print(f\"Đang thử k={k}...\")\n",
    "    # Khởi tạo và huấn luyện mô hình KNN với k hiện tại\n",
    "    knn = KNNClassifier(k=k, use_kdtree=True, weighted_voting=False)\n",
    "    knn.fit(X_train, y_train)\n",
    "    predictions = knn.predict(X_test)  # Dự đoán trên tập test\n",
    "    accuracy = np.mean(predictions == y_test)  # Tính độ chính xác\n",
    "    accuracies[k] = accuracy  # Lưu độ chính xác\n",
    "    print(f\"Độ chính xác với k={k}: {accuracy:.4f}\")\n",
    "\n",
    "# Vẽ biểu đồ cột sử dụng matplotlib\n",
    "plt.figure(figsize=(8, 6))  # Tạo figure với kích thước 8x6 inch\n",
    "plt.bar(accuracies.keys(), [acc * 100 for acc in accuracies.values()], color=['#4e79a7', '#f28e2b', '#76b7b2', '#e15759'], width=0.5)  # Vẽ cột\n",
    "plt.ylim(90, 100)  # Giới hạn trục y từ 90% đến 100%\n",
    "plt.xlabel(\"Giá trị k\")  # Nhãn trục x\n",
    "plt.ylabel(\"Độ chính xác (%)\")  # Nhãn trục y\n",
    "plt.title(\"So Sánh Độ Chính Xác Với Các Giá trị k\")  # Tiêu đề biểu đồ\n",
    "plt.xticks(k_values)  # Đặt nhãn trục x là các giá trị k\n",
    "plt.grid(True, axis='y', linestyle='--', alpha=0.7)  # Thêm lưới trục y\n",
    "plt.show()  # Hiển thị biểu đồ\n",
    "\n",
    "# In kết quả so sánh độ chính xác\n",
    "print(\"\\nSo sánh độ chính xác:\")\n",
    "for k, acc in accuracies.items():\n",
    "    print(f\"k={k}: {acc:.4f}\")\n",
    "\n",
    "# Tìm giá trị k tốt nhất\n",
    "best_k = max(accuracies, key=accuracies.get)\n",
    "print(f\"\\nGiá trị k tốt nhất: k={best_k} với độ chính xác {accuracies[best_k]:.4f}\")"
   ]
  }
 ],
 "metadata": {
  "kernelspec": {
   "display_name": "knn",
   "language": "python",
   "name": "python3"
  },
  "language_info": {
   "codemirror_mode": {
    "name": "ipython",
    "version": 3
   },
   "file_extension": ".py",
   "mimetype": "text/x-python",
   "name": "python",
   "nbconvert_exporter": "python",
   "pygments_lexer": "ipython3",
   "version": "3.13.3"
  }
 },
 "nbformat": 4,
 "nbformat_minor": 5
}
